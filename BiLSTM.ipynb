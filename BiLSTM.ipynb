{
 "cells": [
  {
   "cell_type": "code",
   "execution_count": 1,
   "metadata": {},
   "outputs": [
    {
     "name": "stdout",
     "output_type": "stream",
     "text": [
      "30680\n",
      "rose\n",
      "{1: 'B-art', 2: 'B-geo', 3: 'B-gpe', 4: 'B-nat', 5: 'I-geo', 6: 'B-per', 7: 'I-gpe', 8: 'I-org', 9: 'I-art', 10: 'I-tim', 11: 'O', 12: 'B-org', 13: 'I-eve', 14: 'B-eve', 15: 'B-tim', 16: 'I-per', 17: 'I-nat', 0: '--PADDING--'}\n",
      "[('Thousands', 'NNS', 'O'), ('of', 'IN', 'O'), ('demonstrators', 'NNS', 'O'), ('have', 'VBP', 'O'), ('marched', 'VBN', 'O'), ('through', 'IN', 'O'), ('London', 'NNP', 'B-geo'), ('to', 'TO', 'O'), ('protest', 'VB', 'O'), ('the', 'DT', 'O'), ('war', 'NN', 'O'), ('in', 'IN', 'O'), ('Iraq', 'NNP', 'B-geo'), ('and', 'CC', 'O'), ('demand', 'VB', 'O'), ('the', 'DT', 'O'), ('withdrawal', 'NN', 'O'), ('of', 'IN', 'O'), ('British', 'JJ', 'B-gpe'), ('troops', 'NNS', 'O'), ('from', 'IN', 'O'), ('that', 'DT', 'O'), ('country', 'NN', 'O'), ('.', '.', 'O')]\n"
     ]
    }
   ],
   "source": [
    "from data_preprocessing import *"
   ]
  },
  {
   "cell_type": "code",
   "execution_count": 2,
   "metadata": {},
   "outputs": [],
   "source": [
    "import torch\n",
    "import torch.nn as nn\n",
    "import torch.optim as optim\n",
    "import torch.utils.data as data"
   ]
  },
  {
   "cell_type": "code",
   "execution_count": 3,
   "metadata": {},
   "outputs": [],
   "source": [
    "Xtrain = torch.tensor(X_train[:50],dtype=torch.long)\n",
    "Xtest = torch.tensor(X_test[:50],dtype=torch.long)\n",
    "ytrain = torch.tensor(y_train[:50],dtype=torch.long)\n",
    "ytest = torch.tensor(y_test[:50], dtype=torch.long)\n",
    "Xdev = torch.tensor(X_dev[:50],dtype=torch.long)\n",
    "ydev = torch.tensor(y_dev[:50],dtype=torch.long)"
   ]
  },
  {
   "cell_type": "code",
   "execution_count": 4,
   "metadata": {},
   "outputs": [
    {
     "data": {
      "text/plain": [
       "device(type='cpu')"
      ]
     },
     "execution_count": 4,
     "metadata": {},
     "output_type": "execute_result"
    }
   ],
   "source": [
    "device = torch.device(\"cuda\" if torch.cuda.is_available() else \"cpu\")\n",
    "device"
   ]
  },
  {
   "cell_type": "code",
   "execution_count": 5,
   "metadata": {},
   "outputs": [],
   "source": [
    "# the pre-processing steps for data before beginning training the model\n",
    "loader_train = data.DataLoader(data.TensorDataset(Xtrain, ytrain), shuffle=True, batch_size=4)\n",
    "loader_dev = data.DataLoader(data.TensorDataset(Xdev, ydev), shuffle=True, batch_size=4)\n",
    "loader_test = data.DataLoader(data.TensorDataset(Xtest, ytest), shuffle=True, batch_size=4)\n"
   ]
  },
  {
   "cell_type": "code",
   "execution_count": 6,
   "metadata": {},
   "outputs": [],
   "source": [
    "class BiLSTM(nn.Module):\n",
    "    def __init__(self, vocab_size, embedding_dim, hidden_dim, output_dim):\n",
    "        super().__init__()\n",
    "        \n",
    "        self.embedding = nn.Embedding(vocab_size, embedding_dim)\n",
    "        self.lstm = nn.LSTM(embedding_dim, hidden_dim, num_layers=2, bidirectional=True, dropout=0.5)\n",
    "        self.fc = nn.Linear(hidden_dim * 2, output_dim)\n",
    "        \n",
    "        \n",
    "    def forward(self, text):\n",
    "        embedded = self.embedding(text)\n",
    "        output,_ = self.lstm(embedded)\n",
    "        \n",
    "       \n",
    "        tag_scores = self.fc(output)\n",
    "        return tag_scores"
   ]
  },
  {
   "cell_type": "code",
   "execution_count": 7,
   "metadata": {},
   "outputs": [],
   "source": [
    "EMBEDDING_DIM = 100\n",
    "HIDDEN_DIM = 128\n",
    "\n",
    "OUTPUT_DIM = TAG_COUNT\n",
    "#NUM_LAYERS=2"
   ]
  },
  {
   "cell_type": "code",
   "execution_count": 8,
   "metadata": {},
   "outputs": [
    {
     "data": {
      "text/plain": [
       "'class EarlyStopping:\\n    def __init__(self, tolerance=2, min_delta=0):\\n\\n        self.tolerance = tolerance\\n        self.min_delta = min_delta\\n        self.counter = 0\\n        self.early_stop = False\\n\\n    def __call__(self, train_loss, validation_loss):\\n        if (validation_loss - train_loss) > self.min_delta:\\n            self.counter +=1\\n            if self.counter >= self.tolerance:  \\n                self.early_stop = True '"
      ]
     },
     "execution_count": 8,
     "metadata": {},
     "output_type": "execute_result"
    }
   ],
   "source": [
    "\"\"\"class EarlyStopping:\n",
    "    def __init__(self, tolerance=2, min_delta=0):\n",
    "\n",
    "        self.tolerance = tolerance\n",
    "        self.min_delta = min_delta\n",
    "        self.counter = 0\n",
    "        self.early_stop = False\n",
    "\n",
    "    def __call__(self, train_loss, validation_loss):\n",
    "        if (validation_loss - train_loss) > self.min_delta:\n",
    "            self.counter +=1\n",
    "            if self.counter >= self.tolerance:  \n",
    "                self.early_stop = True \"\"\""
   ]
  },
  {
   "cell_type": "code",
   "execution_count": 9,
   "metadata": {},
   "outputs": [],
   "source": [
    "model_lstm=BiLSTM(len_uniq_words,EMBEDDING_DIM,HIDDEN_DIM,OUTPUT_DIM).to(device)\n",
    "\n",
    "criterion = nn.CrossEntropyLoss()\n",
    "optimizer_lstm = optim.Adam(model_lstm.parameters())"
   ]
  },
  {
   "cell_type": "code",
   "execution_count": 10,
   "metadata": {},
   "outputs": [
    {
     "ename": "NameError",
     "evalue": "name 'model' is not defined",
     "output_type": "error",
     "traceback": [
      "\u001b[1;31m---------------------------------------------------------------------------\u001b[0m",
      "\u001b[1;31mNameError\u001b[0m                                 Traceback (most recent call last)",
      "\u001b[1;32m<ipython-input-10-3e2229a16773>\u001b[0m in \u001b[0;36m<module>\u001b[1;34m\u001b[0m\n\u001b[0;32m     24\u001b[0m     \u001b[1;32mwith\u001b[0m \u001b[0mtorch\u001b[0m\u001b[1;33m.\u001b[0m\u001b[0mno_grad\u001b[0m\u001b[1;33m(\u001b[0m\u001b[1;33m)\u001b[0m\u001b[1;33m:\u001b[0m\u001b[1;33m\u001b[0m\u001b[1;33m\u001b[0m\u001b[0m\n\u001b[0;32m     25\u001b[0m       \u001b[1;32mfor\u001b[0m \u001b[0mx_batch\u001b[0m\u001b[1;33m,\u001b[0m \u001b[0my_batch\u001b[0m \u001b[1;32min\u001b[0m \u001b[0mloader_dev\u001b[0m\u001b[1;33m:\u001b[0m\u001b[1;33m\u001b[0m\u001b[1;33m\u001b[0m\u001b[0m\n\u001b[1;32m---> 26\u001b[1;33m         \u001b[0mtag_scores\u001b[0m \u001b[1;33m=\u001b[0m \u001b[0mmodel\u001b[0m\u001b[1;33m(\u001b[0m\u001b[0mx_batch\u001b[0m\u001b[1;33m)\u001b[0m\u001b[1;33m\u001b[0m\u001b[1;33m\u001b[0m\u001b[0m\n\u001b[0m\u001b[0;32m     27\u001b[0m         \u001b[0mpredictions\u001b[0m\u001b[1;33m=\u001b[0m\u001b[0mtag_scores\u001b[0m\u001b[1;33m.\u001b[0m\u001b[0mview\u001b[0m\u001b[1;33m(\u001b[0m\u001b[1;33m-\u001b[0m\u001b[1;36m1\u001b[0m\u001b[1;33m,\u001b[0m\u001b[0mtag_scores\u001b[0m\u001b[1;33m.\u001b[0m\u001b[0mshape\u001b[0m\u001b[1;33m[\u001b[0m\u001b[1;33m-\u001b[0m\u001b[1;36m1\u001b[0m\u001b[1;33m]\u001b[0m\u001b[1;33m)\u001b[0m\u001b[1;33m\u001b[0m\u001b[1;33m\u001b[0m\u001b[0m\n\u001b[0;32m     28\u001b[0m \u001b[1;33m\u001b[0m\u001b[0m\n",
      "\u001b[1;31mNameError\u001b[0m: name 'model' is not defined"
     ]
    }
   ],
   "source": [
    "num_epochs=10\n",
    "for epoch in range(num_epochs):\n",
    "    model_lstm.train()\n",
    "    train_loss=0.0\n",
    "    #print(epoch)\n",
    "    for x_batch, y_batch in loader_train:\n",
    "        \n",
    "        optimizer_lstm.zero_grad()\n",
    "        tag_scores = model_lstm(x_batch)\n",
    "        predictions=tag_scores.view(-1,tag_scores.shape[-1])\n",
    "        \n",
    "        tags=y_batch.view(-1)\n",
    "        #print(\"true tag\",tags)\n",
    "        loss = criterion(predictions, tags)\n",
    "        loss.backward()\n",
    "        optimizer_lstm.step()\n",
    "        train_loss += loss.item()\n",
    "    train_loss/=len(loader_train)\n",
    "    \n",
    "\n",
    "    #Evaluation phase\n",
    "    model_lstm.eval()\n",
    "    dev_loss=0.0\n",
    "    with torch.no_grad():\n",
    "      for x_batch, y_batch in loader_dev:\n",
    "        tag_scores = model(x_batch)\n",
    "        predictions=tag_scores.view(-1,tag_scores.shape[-1])\n",
    "        \n",
    "        tags=y_batch.view(-1)\n",
    "        loss = criterion(predictions, tags)\n",
    "\n",
    "        dev_loss+=loss.item()\n",
    "    dev_loss /= len(loader_dev)\n",
    "    \n",
    "        \n",
    "   \n",
    "    #early_stopping = EarlyStopping(tolerance=2, min_delta=0)\n",
    "\n",
    "\n",
    "    #early_stopping(train_loss, dev_loss)\n",
    "  \n",
    "    print(f\"Epoch {epoch + 1}, Train Loss: {train_loss}, Dev Loss: {dev_loss}\")\n",
    "    #if early_stopping.early_stop:\n",
    "        #print(\"We are at epoch:\", epoch)\n",
    "        #break\n",
    "    "
   ]
  },
  {
   "cell_type": "code",
   "execution_count": 11,
   "metadata": {},
   "outputs": [],
   "source": [
    "def decode_tag(predictions,idtotag):\n",
    "  decoded_tags=[idtotag[int(p)] for p in predictions]\n",
    "  return decoded_tags"
   ]
  },
  {
   "cell_type": "code",
   "execution_count": 12,
   "metadata": {},
   "outputs": [
    {
     "name": "stdout",
     "output_type": "stream",
     "text": [
      "Accuracy: 0.82\n"
     ]
    }
   ],
   "source": [
    "# Evaluate the model on test data\n",
    "model_lstm.eval()\n",
    "all_preds=[]\n",
    "all_true_tags=[]\n",
    "\n",
    "with torch.no_grad():\n",
    "  for x_batch, y_batch in loader_test:\n",
    "    tag_scores = model_lstm(x_batch)\n",
    "    predictions=tag_scores.view(-1,tag_scores.shape[-1])\n",
    "    max_pred=predictions.argmax(dim=-1)\n",
    "    true_tags=y_batch.view(-1)\n",
    "    decoded_pred=decode_tag(max_pred,id2tag)\n",
    "    decoded_true_tag=decode_tag(true_tags,id2tag)\n",
    "    all_preds.extend(decoded_pred)\n",
    "    all_true_tags.extend(decoded_true_tag)\n",
    "#print(all_preds)\n",
    "#print(all_true_tags)\n",
    "accuracy= accuracy_score(all_true_tags,all_preds)\n",
    "#precision = precision_score(all_true_tags, all_preds, average=\"weighted\")\n",
    "#recall=recall_score(all_true_tags, all_preds)\n",
    "#f1=f1_score(all_true_tags, all_preds)\n",
    "\n",
    "print(f\"Accuracy: {accuracy:.2f}\")"
   ]
  },
  {
   "cell_type": "code",
   "execution_count": null,
   "metadata": {},
   "outputs": [],
   "source": []
  }
 ],
 "metadata": {
  "kernelspec": {
   "display_name": "Python 3",
   "language": "python",
   "name": "python3"
  },
  "language_info": {
   "codemirror_mode": {
    "name": "ipython",
    "version": 3
   },
   "file_extension": ".py",
   "mimetype": "text/x-python",
   "name": "python",
   "nbconvert_exporter": "python",
   "pygments_lexer": "ipython3",
   "version": "3.8.5"
  }
 },
 "nbformat": 4,
 "nbformat_minor": 4
}
