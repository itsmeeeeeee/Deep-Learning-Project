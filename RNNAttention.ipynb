{
 "cells": [
  {
   "cell_type": "code",
   "execution_count": 2,
   "metadata": {},
   "outputs": [],
   "source": [
    "from data_preprocessing import *"
   ]
  },
  {
   "cell_type": "code",
   "execution_count": 13,
   "metadata": {},
   "outputs": [],
   "source": [
    "import torch\n",
    "import torch.nn as nn\n",
    "import torch.optim as optim\n",
    "import torch.utils.data as data\n",
    "import torch.nn.functional as F"
   ]
  },
  {
   "cell_type": "code",
   "execution_count": 4,
   "metadata": {},
   "outputs": [],
   "source": [
    "Xtrain = torch.tensor(X_train[:50],dtype=torch.long)\n",
    "Xtest = torch.tensor(X_test[:50],dtype=torch.long)\n",
    "ytrain = torch.tensor(y_train[:50],dtype=torch.long)\n",
    "ytest = torch.tensor(y_test[:50], dtype=torch.long)\n",
    "Xdev = torch.tensor(X_dev[:50],dtype=torch.long)\n",
    "ydev = torch.tensor(y_dev[:50],dtype=torch.long)"
   ]
  },
  {
   "cell_type": "code",
   "execution_count": 5,
   "metadata": {},
   "outputs": [
    {
     "data": {
      "text/plain": [
       "device(type='cpu')"
      ]
     },
     "execution_count": 5,
     "metadata": {},
     "output_type": "execute_result"
    }
   ],
   "source": [
    "device = torch.device(\"cuda\" if torch.cuda.is_available() else \"cpu\")\n",
    "device"
   ]
  },
  {
   "cell_type": "code",
   "execution_count": 7,
   "metadata": {},
   "outputs": [],
   "source": [
    "# the pre-processing steps for data before beginning training the model\n",
    "\n",
    "loader_train = data.DataLoader(data.TensorDataset(Xtrain, ytrain), shuffle=True, batch_size=4)\n",
    "loader_dev = data.DataLoader(data.TensorDataset(Xdev, ydev), shuffle=True, batch_size=4)\n",
    "loader_test = data.DataLoader(data.TensorDataset(Xtest, ytest), shuffle=True, batch_size=4)"
   ]
  },
  {
   "cell_type": "code",
   "execution_count": 16,
   "metadata": {},
   "outputs": [],
   "source": [
    "class BahdanauAttention(nn.Module):\n",
    "    \n",
    "    def __init__(self, hidden_dim):\n",
    "        super().__init__()\n",
    "        self.hidden_dim=hidden_dim\n",
    "        self.w1=nn.Linear(hidden_dim, hidden_dim)\n",
    "        self.w2=nn.Linear(hidden_dim, hidden_dim)\n",
    "        self.V=nn.Linear(hidden_dim,1)\n",
    "    \n",
    "    def forward (self, hidden, encoder_outputs):\n",
    "        seq_len=encoder_outputs.shape[0]\n",
    "       \n",
    "        hidden=hidden.unsqueeze(1).repeat(1, seq_len, 1)\n",
    "        encoder_outputs = encoder_outputs.permute(1,0,2)\n",
    "        \n",
    "        scores = self.V(torch.tanh(self.w1(hidden) + self.w2(encoder_outputs)))\n",
    "        attention = scores.squeeze(2)\n",
    "        return F.softmax(attention,dim=-1)"
   ]
  },
  {
   "cell_type": "code",
   "execution_count": 17,
   "metadata": {},
   "outputs": [],
   "source": [
    "class RNNAttentionNER(nn.Module):\n",
    "\n",
    "    def __init__(self, input_dim, embedding_dim, hidden_size, output_dim):\n",
    "\n",
    "        super(RNNAttentionNER, self).__init__()\n",
    "        self.embedding = nn.Embedding(input_dim, embedding_dim)\n",
    "        self.rnn = nn.RNN(embedding_dim, hidden_size, num_layers=2, dropout=0.5)\n",
    "        self.attention = BahdanauAttention(hidden_size)\n",
    "        self.fc = nn.Linear(hidden_size * 2, output_dim)\n",
    "        \n",
    "    def forward(self, text):\n",
    "        \n",
    "        embedded = self.embedding(text)\n",
    "        outputs, hidden = self.rnn(embedded)\n",
    "        #print(\"Das ist hidden\",outputs.shape)\n",
    "        seq_len, batch_size, _ = outputs.size()\n",
    "        logits = []\n",
    "        \n",
    "        for i in range(seq_len):\n",
    "            \n",
    "            attention_weights = self.attention(hidden[1], outputs)\n",
    "            \n",
    "            #context = torch.bmm(attention_weights, outputs)\n",
    "            context = torch.bmm(attention_weights.unsqueeze(1), outputs.permute(1, 0, 2)).squeeze(1)\n",
    "            logit = self.fc(torch.cat((hidden[1], context), dim=1))\n",
    "            logits.append(logit)\n",
    "        logits = torch.stack(logits, dim=0)\n",
    "        return logits"
   ]
  },
  {
   "cell_type": "code",
   "execution_count": 10,
   "metadata": {},
   "outputs": [],
   "source": [
    "EMBEDDING_DIM = 100\n",
    "\n",
    "HIDDEN_DIM = 128\n",
    "\n",
    "OUTPUT_DIM = TAG_COUNT"
   ]
  },
  {
   "cell_type": "code",
   "execution_count": 18,
   "metadata": {},
   "outputs": [],
   "source": [
    "model_rnn=RNNAttentionNER(len_uniq_words,EMBEDDING_DIM,HIDDEN_DIM,OUTPUT_DIM).to(device)\n",
    "criterion = nn.CrossEntropyLoss()\n",
    "optimizer_rnn = optim.Adam(model_rnn.parameters())"
   ]
  },
  {
   "cell_type": "code",
   "execution_count": 19,
   "metadata": {},
   "outputs": [
    {
     "name": "stdout",
     "output_type": "stream",
     "text": [
      "Epoch 1, Train Loss: 1.2523417656238263\n",
      "Epoch 2, Train Loss: 0.6063597179376162\n",
      "Epoch 3, Train Loss: 0.4307935833930969\n",
      "Epoch 4, Train Loss: 0.31366980648957765\n",
      "Epoch 5, Train Loss: 0.30020449597101945\n",
      "Epoch 6, Train Loss: 0.2959983085210507\n",
      "Epoch 7, Train Loss: 0.2743983303125088\n",
      "Epoch 8, Train Loss: 0.2678031852612129\n",
      "Epoch 9, Train Loss: 0.278996358697231\n",
      "Epoch 10, Train Loss: 0.26663968654779285\n"
     ]
    }
   ],
   "source": [
    "num_epochs=10\n",
    "for epoch in range(num_epochs):\n",
    "    model_rnn.train()\n",
    "    train_loss=0.0\n",
    "    #print(epoch)\n",
    "    for x_batch, y_batch in loader_train:\n",
    "        \n",
    "        optimizer_rnn.zero_grad()\n",
    "        tag_scores = model_rnn(x_batch)\n",
    "        predictions=tag_scores.view(-1,tag_scores.shape[-1])\n",
    "        \n",
    "        tags=y_batch.view(-1)\n",
    "        #print(\"true tag\",tags)\n",
    "        loss = criterion(predictions, tags)\n",
    "        loss.backward()\n",
    "        optimizer_rnn.step()\n",
    "        train_loss += loss.item()\n",
    "    train_loss/=len(loader_train)\n",
    "    \n",
    "    print(f\"Epoch {epoch + 1}, Train Loss: {train_loss}\")"
   ]
  },
  {
   "cell_type": "code",
   "execution_count": null,
   "metadata": {},
   "outputs": [],
   "source": []
  }
 ],
 "metadata": {
  "kernelspec": {
   "display_name": "Python 3",
   "language": "python",
   "name": "python3"
  },
  "language_info": {
   "codemirror_mode": {
    "name": "ipython",
    "version": 3
   },
   "file_extension": ".py",
   "mimetype": "text/x-python",
   "name": "python",
   "nbconvert_exporter": "python",
   "pygments_lexer": "ipython3",
   "version": "3.8.5"
  }
 },
 "nbformat": 4,
 "nbformat_minor": 4
}
